{
  "nbformat": 4,
  "nbformat_minor": 0,
  "metadata": {
    "colab": {
      "provenance": [],
      "authorship_tag": "ABX9TyMr+2UZkuZ3kV5BIkFguEiI",
      "include_colab_link": true
    },
    "kernelspec": {
      "name": "python3",
      "display_name": "Python 3"
    },
    "language_info": {
      "name": "python"
    }
  },
  "cells": [
    {
      "cell_type": "markdown",
      "metadata": {
        "id": "view-in-github",
        "colab_type": "text"
      },
      "source": [
        "<a href=\"https://colab.research.google.com/github/Khodwepratik/NLP_Basic/blob/main/NLTK_Text_Generation.ipynb\" target=\"_parent\"><img src=\"https://colab.research.google.com/assets/colab-badge.svg\" alt=\"Open In Colab\"/></a>"
      ]
    },
    {
      "cell_type": "code",
      "source": [
        "!pip install nltk"
      ],
      "metadata": {
        "colab": {
          "base_uri": "https://localhost:8080/"
        },
        "id": "pka7FeWSqbMM",
        "outputId": "4ec32869-5c02-4886-b5c7-3c0d465779a4"
      },
      "execution_count": 100,
      "outputs": [
        {
          "output_type": "stream",
          "name": "stdout",
          "text": [
            "Requirement already satisfied: nltk in /usr/local/lib/python3.10/dist-packages (3.8.1)\n",
            "Requirement already satisfied: click in /usr/local/lib/python3.10/dist-packages (from nltk) (8.1.7)\n",
            "Requirement already satisfied: joblib in /usr/local/lib/python3.10/dist-packages (from nltk) (1.3.2)\n",
            "Requirement already satisfied: regex>=2021.8.3 in /usr/local/lib/python3.10/dist-packages (from nltk) (2023.12.25)\n",
            "Requirement already satisfied: tqdm in /usr/local/lib/python3.10/dist-packages (from nltk) (4.66.2)\n"
          ]
        }
      ]
    },
    {
      "cell_type": "code",
      "source": [
        "import nltk\n",
        "from nltk.tokenize import sent_tokenize, word_tokenize\n",
        "from nltk.stem import PorterStemmer\n",
        "from nltk.corpus import stopwords\n",
        "from nltk.probability import FreqDist"
      ],
      "metadata": {
        "id": "W9GCJFK8u_kY"
      },
      "execution_count": 101,
      "outputs": []
    },
    {
      "cell_type": "code",
      "source": [
        "#sample Paragraph\n",
        "paragraph = \"\"\"\n",
        "Java is the name of a programming language created by Sun Microsystems. This company was bought out by Oracle Corporation, which continues to keep it up to date. It is designed to be platform-independent, which means that code written in Java can run on any device or operating system that has a Java Virtual Machine (JVM) installed. This makes Java a popular choice for developing cross-platform applications and games. Additionally, Java has a large and active community, and a wide range of libraries and frameworks available for use. As of March 2023, Java 20 is the latest version (will be supported until September 2023), while Java 17, 11 and 8 are the current long-term support (LTS) versions. Being an LTS version means that it will continue getting updates for multiple years. The next planned LTS version is Java 21 (LTS), planned for September 2023.\n",
        "\"\"\"\n",
        "\n",
        "print(paragraph)"
      ],
      "metadata": {
        "colab": {
          "base_uri": "https://localhost:8080/"
        },
        "id": "vpTJBDPmvH2e",
        "outputId": "f4b9c098-b230-4640-9601-d19c1e4c3604"
      },
      "execution_count": 102,
      "outputs": [
        {
          "output_type": "stream",
          "name": "stdout",
          "text": [
            "\n",
            "Java is the name of a programming language created by Sun Microsystems. This company was bought out by Oracle Corporation, which continues to keep it up to date. It is designed to be platform-independent, which means that code written in Java can run on any device or operating system that has a Java Virtual Machine (JVM) installed. This makes Java a popular choice for developing cross-platform applications and games. Additionally, Java has a large and active community, and a wide range of libraries and frameworks available for use. As of March 2023, Java 20 is the latest version (will be supported until September 2023), while Java 17, 11 and 8 are the current long-term support (LTS) versions. Being an LTS version means that it will continue getting updates for multiple years. The next planned LTS version is Java 21 (LTS), planned for September 2023.\n",
            "\n"
          ]
        }
      ]
    },
    {
      "cell_type": "markdown",
      "source": [
        "# Tokenizing"
      ],
      "metadata": {
        "id": "2hhthmPi3On8"
      }
    },
    {
      "cell_type": "code",
      "source": [
        "#converting paragraph into sentences\n",
        "sentences = sent_tokenize(paragraph)\n",
        "print(sentences)"
      ],
      "metadata": {
        "colab": {
          "base_uri": "https://localhost:8080/"
        },
        "id": "0nUs3mQdvPGW",
        "outputId": "6179554a-df72-4498-886f-af345c5526db"
      },
      "execution_count": 103,
      "outputs": [
        {
          "output_type": "stream",
          "name": "stdout",
          "text": [
            "['\\nJava is the name of a programming language created by Sun Microsystems.', 'This company was bought out by Oracle Corporation, which continues to keep it up to date.', 'It is designed to be platform-independent, which means that code written in Java can run on any device or operating system that has a Java Virtual Machine (JVM) installed.', 'This makes Java a popular choice for developing cross-platform applications and games.', 'Additionally, Java has a large and active community, and a wide range of libraries and frameworks available for use.', 'As of March 2023, Java 20 is the latest version (will be supported until September 2023), while Java 17, 11 and 8 are the current long-term support (LTS) versions.', 'Being an LTS version means that it will continue getting updates for multiple years.', 'The next planned LTS version is Java 21 (LTS), planned for September 2023.']\n"
          ]
        }
      ]
    },
    {
      "cell_type": "code",
      "source": [
        "# converting paragraph into words\n",
        "words = word_tokenize(paragraph)\n",
        "print(words)"
      ],
      "metadata": {
        "colab": {
          "base_uri": "https://localhost:8080/"
        },
        "id": "cmiTvNnhvjWE",
        "outputId": "cf58c6d6-8d05-4c59-ce28-5dd59f30b667"
      },
      "execution_count": 58,
      "outputs": [
        {
          "output_type": "stream",
          "name": "stdout",
          "text": [
            "['Java', 'is', 'the', 'name', 'of', 'a', 'programming', 'language', 'created', 'by', 'Sun', 'Microsystems', '.', 'This', 'company', 'was', 'bought', 'out', 'by', 'Oracle', 'Corporation', ',', 'which', 'continues', 'to', 'keep', 'it', 'up', 'to', 'date', '.', 'It', 'is', 'designed', 'to', 'be', 'platform-independent', ',', 'which', 'means', 'that', 'code', 'written', 'in', 'Java', 'can', 'run', 'on', 'any', 'device', 'or', 'operating', 'system', 'that', 'has', 'a', 'Java', 'Virtual', 'Machine', '(', 'JVM', ')', 'installed', '.', 'This', 'makes', 'Java', 'a', 'popular', 'choice', 'for', 'developing', 'cross-platform', 'applications', 'and', 'games', '.', 'Additionally', ',', 'Java', 'has', 'a', 'large', 'and', 'active', 'community', ',', 'and', 'a', 'wide', 'range', 'of', 'libraries', 'and', 'frameworks', 'available', 'for', 'use', '.', 'As', 'of', 'March', '2023', ',', 'Java', '20', 'is', 'the', 'latest', 'version', '(', 'will', 'be', 'supported', 'until', 'September', '2023', ')', ',', 'while', 'Java', '17', ',', '11', 'and', '8', 'are', 'the', 'current', 'long-term', 'support', '(', 'LTS', ')', 'versions', '.', 'Being', 'an', 'LTS', 'version', 'means', 'that', 'it', 'will', 'continue', 'getting', 'updates', 'for', 'multiple', 'years', '.', 'The', 'next', 'planned', 'LTS', 'version', 'is', 'Java', '21', '(', 'LTS', ')', ',', 'planned', 'for', 'September', '2023', '.']\n"
          ]
        }
      ]
    },
    {
      "cell_type": "markdown",
      "source": [
        "#Stemming and Filteration"
      ],
      "metadata": {
        "id": "wpDTOB6S3S0s"
      }
    },
    {
      "cell_type": "code",
      "source": [
        "# stemming\n",
        "from nltk.stem import PorterStemmer\n",
        "Stemmer = PorterStemmer()\n",
        "stemmed_words = [Stemmer.stem(word) for word in words]\n",
        "\n",
        "#stopwords\n",
        "stop_words = set(stopwords.words(\"english\"))\n",
        "filtered_words = [word for word in words if word.lower() not in stop_words]"
      ],
      "metadata": {
        "id": "8NWp9PCIvyow"
      },
      "execution_count": 62,
      "outputs": []
    },
    {
      "cell_type": "code",
      "source": [
        "#Printing Original Paragraph\n",
        "\n",
        "print(\"Original Paragraph:\")\n",
        "print(paragraph)"
      ],
      "metadata": {
        "colab": {
          "base_uri": "https://localhost:8080/"
        },
        "id": "F8moSL5fxx72",
        "outputId": "caa9e5d1-afbd-4701-adcc-f2d6acd2c379"
      },
      "execution_count": 65,
      "outputs": [
        {
          "output_type": "stream",
          "name": "stdout",
          "text": [
            "Original Paragraph:\n",
            "\n",
            "Java is the name of a programming language created by Sun Microsystems. This company was bought out by Oracle Corporation, which continues to keep it up to date. It is designed to be platform-independent, which means that code written in Java can run on any device or operating system that has a Java Virtual Machine (JVM) installed. This makes Java a popular choice for developing cross-platform applications and games. Additionally, Java has a large and active community, and a wide range of libraries and frameworks available for use. As of March 2023, Java 20 is the latest version (will be supported until September 2023), while Java 17, 11 and 8 are the current long-term support (LTS) versions. Being an LTS version means that it will continue getting updates for multiple years. The next planned LTS version is Java 21 (LTS), planned for September 2023.\n",
            "\n"
          ]
        }
      ]
    },
    {
      "cell_type": "code",
      "source": [
        "#Printing Tokenized sentences and words\n",
        "print(\"\\nTokenized Sentences:\")\n",
        "print(sentences)\n",
        "\n",
        "print(\"\\nTokenized Words:\")\n",
        "print(words)"
      ],
      "metadata": {
        "colab": {
          "base_uri": "https://localhost:8080/"
        },
        "id": "eecqyCAPx3hV",
        "outputId": "9595c3ee-f833-4364-eecc-c622ffa0da35"
      },
      "execution_count": 67,
      "outputs": [
        {
          "output_type": "stream",
          "name": "stdout",
          "text": [
            "\n",
            "Tokenized Sentences:\n",
            "['\\nJava is the name of a programming language created by Sun Microsystems.', 'This company was bought out by Oracle Corporation, which continues to keep it up to date.', 'It is designed to be platform-independent, which means that code written in Java can run on any device or operating system that has a Java Virtual Machine (JVM) installed.', 'This makes Java a popular choice for developing cross-platform applications and games.', 'Additionally, Java has a large and active community, and a wide range of libraries and frameworks available for use.', 'As of March 2023, Java 20 is the latest version (will be supported until September 2023), while Java 17, 11 and 8 are the current long-term support (LTS) versions.', 'Being an LTS version means that it will continue getting updates for multiple years.', 'The next planned LTS version is Java 21 (LTS), planned for September 2023.']\n",
            "\n",
            "Tokenized Words:\n",
            "['Java', 'is', 'the', 'name', 'of', 'a', 'programming', 'language', 'created', 'by', 'Sun', 'Microsystems', '.', 'This', 'company', 'was', 'bought', 'out', 'by', 'Oracle', 'Corporation', ',', 'which', 'continues', 'to', 'keep', 'it', 'up', 'to', 'date', '.', 'It', 'is', 'designed', 'to', 'be', 'platform-independent', ',', 'which', 'means', 'that', 'code', 'written', 'in', 'Java', 'can', 'run', 'on', 'any', 'device', 'or', 'operating', 'system', 'that', 'has', 'a', 'Java', 'Virtual', 'Machine', '(', 'JVM', ')', 'installed', '.', 'This', 'makes', 'Java', 'a', 'popular', 'choice', 'for', 'developing', 'cross-platform', 'applications', 'and', 'games', '.', 'Additionally', ',', 'Java', 'has', 'a', 'large', 'and', 'active', 'community', ',', 'and', 'a', 'wide', 'range', 'of', 'libraries', 'and', 'frameworks', 'available', 'for', 'use', '.', 'As', 'of', 'March', '2023', ',', 'Java', '20', 'is', 'the', 'latest', 'version', '(', 'will', 'be', 'supported', 'until', 'September', '2023', ')', ',', 'while', 'Java', '17', ',', '11', 'and', '8', 'are', 'the', 'current', 'long-term', 'support', '(', 'LTS', ')', 'versions', '.', 'Being', 'an', 'LTS', 'version', 'means', 'that', 'it', 'will', 'continue', 'getting', 'updates', 'for', 'multiple', 'years', '.', 'The', 'next', 'planned', 'LTS', 'version', 'is', 'Java', '21', '(', 'LTS', ')', ',', 'planned', 'for', 'September', '2023', '.']\n"
          ]
        }
      ]
    },
    {
      "cell_type": "code",
      "source": [
        "#Printing Stemmed & Filtered Words\n",
        "print(\"\\nStemmed Words:\")\n",
        "print(stemmed_words)\n",
        "\n",
        "print(\"\\nFiltered Words (without stopwords):\")\n",
        "print(filtered_words)\n"
      ],
      "metadata": {
        "colab": {
          "base_uri": "https://localhost:8080/"
        },
        "id": "1EZ6tPVAyClV",
        "outputId": "2068116a-c8ec-4918-8ccb-c9504bda0fe5"
      },
      "execution_count": 69,
      "outputs": [
        {
          "output_type": "stream",
          "name": "stdout",
          "text": [
            "\n",
            "Stemmed Words:\n",
            "['java', 'is', 'the', 'name', 'of', 'a', 'program', 'languag', 'creat', 'by', 'sun', 'microsystem', '.', 'thi', 'compani', 'wa', 'bought', 'out', 'by', 'oracl', 'corpor', ',', 'which', 'continu', 'to', 'keep', 'it', 'up', 'to', 'date', '.', 'it', 'is', 'design', 'to', 'be', 'platform-independ', ',', 'which', 'mean', 'that', 'code', 'written', 'in', 'java', 'can', 'run', 'on', 'ani', 'devic', 'or', 'oper', 'system', 'that', 'ha', 'a', 'java', 'virtual', 'machin', '(', 'jvm', ')', 'instal', '.', 'thi', 'make', 'java', 'a', 'popular', 'choic', 'for', 'develop', 'cross-platform', 'applic', 'and', 'game', '.', 'addit', ',', 'java', 'ha', 'a', 'larg', 'and', 'activ', 'commun', ',', 'and', 'a', 'wide', 'rang', 'of', 'librari', 'and', 'framework', 'avail', 'for', 'use', '.', 'as', 'of', 'march', '2023', ',', 'java', '20', 'is', 'the', 'latest', 'version', '(', 'will', 'be', 'support', 'until', 'septemb', '2023', ')', ',', 'while', 'java', '17', ',', '11', 'and', '8', 'are', 'the', 'current', 'long-term', 'support', '(', 'lt', ')', 'version', '.', 'be', 'an', 'lt', 'version', 'mean', 'that', 'it', 'will', 'continu', 'get', 'updat', 'for', 'multipl', 'year', '.', 'the', 'next', 'plan', 'lt', 'version', 'is', 'java', '21', '(', 'lt', ')', ',', 'plan', 'for', 'septemb', '2023', '.']\n",
            "\n",
            "Filtered Words (without stopwords):\n",
            "['Java', 'name', 'programming', 'language', 'created', 'Sun', 'Microsystems', '.', 'company', 'bought', 'Oracle', 'Corporation', ',', 'continues', 'keep', 'date', '.', 'designed', 'platform-independent', ',', 'means', 'code', 'written', 'Java', 'run', 'device', 'operating', 'system', 'Java', 'Virtual', 'Machine', '(', 'JVM', ')', 'installed', '.', 'makes', 'Java', 'popular', 'choice', 'developing', 'cross-platform', 'applications', 'games', '.', 'Additionally', ',', 'Java', 'large', 'active', 'community', ',', 'wide', 'range', 'libraries', 'frameworks', 'available', 'use', '.', 'March', '2023', ',', 'Java', '20', 'latest', 'version', '(', 'supported', 'September', '2023', ')', ',', 'Java', '17', ',', '11', '8', 'current', 'long-term', 'support', '(', 'LTS', ')', 'versions', '.', 'LTS', 'version', 'means', 'continue', 'getting', 'updates', 'multiple', 'years', '.', 'next', 'planned', 'LTS', 'version', 'Java', '21', '(', 'LTS', ')', ',', 'planned', 'September', '2023', '.']\n"
          ]
        }
      ]
    },
    {
      "cell_type": "markdown",
      "source": [
        "#Frequency Distribution"
      ],
      "metadata": {
        "id": "jqJbVWag3YIz"
      }
    },
    {
      "cell_type": "code",
      "source": [
        "# Frequency Distribution words\n",
        "fdist = FreqDist(words)\n",
        "\n",
        "print(\"\\nFrequency Distribution of Words:\")\n",
        "print(fdist.most_common())"
      ],
      "metadata": {
        "colab": {
          "base_uri": "https://localhost:8080/"
        },
        "id": "Oe-J_OVfySik",
        "outputId": "0fb4e8a3-6301-41fd-c100-4ea1dfc86df5"
      },
      "execution_count": 71,
      "outputs": [
        {
          "output_type": "stream",
          "name": "stdout",
          "text": [
            "\n",
            "Frequency Distribution of Words:\n",
            "[('Java', 8), ('.', 8), (',', 8), ('a', 5), ('and', 5), ('is', 4), ('(', 4), (')', 4), ('for', 4), ('LTS', 4), ('the', 3), ('of', 3), ('to', 3), ('that', 3), ('2023', 3), ('version', 3), ('by', 2), ('This', 2), ('which', 2), ('it', 2), ('be', 2), ('means', 2), ('has', 2), ('will', 2), ('September', 2), ('planned', 2), ('name', 1), ('programming', 1), ('language', 1), ('created', 1), ('Sun', 1), ('Microsystems', 1), ('company', 1), ('was', 1), ('bought', 1), ('out', 1), ('Oracle', 1), ('Corporation', 1), ('continues', 1), ('keep', 1), ('up', 1), ('date', 1), ('It', 1), ('designed', 1), ('platform-independent', 1), ('code', 1), ('written', 1), ('in', 1), ('can', 1), ('run', 1), ('on', 1), ('any', 1), ('device', 1), ('or', 1), ('operating', 1), ('system', 1), ('Virtual', 1), ('Machine', 1), ('JVM', 1), ('installed', 1), ('makes', 1), ('popular', 1), ('choice', 1), ('developing', 1), ('cross-platform', 1), ('applications', 1), ('games', 1), ('Additionally', 1), ('large', 1), ('active', 1), ('community', 1), ('wide', 1), ('range', 1), ('libraries', 1), ('frameworks', 1), ('available', 1), ('use', 1), ('As', 1), ('March', 1), ('20', 1), ('latest', 1), ('supported', 1), ('until', 1), ('while', 1), ('17', 1), ('11', 1), ('8', 1), ('are', 1), ('current', 1), ('long-term', 1), ('support', 1), ('versions', 1), ('Being', 1), ('an', 1), ('continue', 1), ('getting', 1), ('updates', 1), ('multiple', 1), ('years', 1), ('The', 1), ('next', 1), ('21', 1)]\n"
          ]
        }
      ]
    },
    {
      "cell_type": "markdown",
      "source": [
        "# Summarizing the paragraph"
      ],
      "metadata": {
        "id": "72hqZxKXynhd"
      }
    },
    {
      "cell_type": "code",
      "source": [
        "!pip install transformers"
      ],
      "metadata": {
        "colab": {
          "base_uri": "https://localhost:8080/"
        },
        "id": "HD0mOS0Y1BYZ",
        "outputId": "e8ed6e3b-4b69-4ece-86b6-6fdb5a0d1513"
      },
      "execution_count": 91,
      "outputs": [
        {
          "output_type": "stream",
          "name": "stdout",
          "text": [
            "Requirement already satisfied: transformers in /usr/local/lib/python3.10/dist-packages (4.38.2)\n",
            "Requirement already satisfied: filelock in /usr/local/lib/python3.10/dist-packages (from transformers) (3.13.1)\n",
            "Requirement already satisfied: huggingface-hub<1.0,>=0.19.3 in /usr/local/lib/python3.10/dist-packages (from transformers) (0.20.3)\n",
            "Requirement already satisfied: numpy>=1.17 in /usr/local/lib/python3.10/dist-packages (from transformers) (1.25.2)\n",
            "Requirement already satisfied: packaging>=20.0 in /usr/local/lib/python3.10/dist-packages (from transformers) (24.0)\n",
            "Requirement already satisfied: pyyaml>=5.1 in /usr/local/lib/python3.10/dist-packages (from transformers) (6.0.1)\n",
            "Requirement already satisfied: regex!=2019.12.17 in /usr/local/lib/python3.10/dist-packages (from transformers) (2023.12.25)\n",
            "Requirement already satisfied: requests in /usr/local/lib/python3.10/dist-packages (from transformers) (2.31.0)\n",
            "Requirement already satisfied: tokenizers<0.19,>=0.14 in /usr/local/lib/python3.10/dist-packages (from transformers) (0.15.2)\n",
            "Requirement already satisfied: safetensors>=0.4.1 in /usr/local/lib/python3.10/dist-packages (from transformers) (0.4.2)\n",
            "Requirement already satisfied: tqdm>=4.27 in /usr/local/lib/python3.10/dist-packages (from transformers) (4.66.2)\n",
            "Requirement already satisfied: fsspec>=2023.5.0 in /usr/local/lib/python3.10/dist-packages (from huggingface-hub<1.0,>=0.19.3->transformers) (2023.6.0)\n",
            "Requirement already satisfied: typing-extensions>=3.7.4.3 in /usr/local/lib/python3.10/dist-packages (from huggingface-hub<1.0,>=0.19.3->transformers) (4.10.0)\n",
            "Requirement already satisfied: charset-normalizer<4,>=2 in /usr/local/lib/python3.10/dist-packages (from requests->transformers) (3.3.2)\n",
            "Requirement already satisfied: idna<4,>=2.5 in /usr/local/lib/python3.10/dist-packages (from requests->transformers) (3.6)\n",
            "Requirement already satisfied: urllib3<3,>=1.21.1 in /usr/local/lib/python3.10/dist-packages (from requests->transformers) (2.0.7)\n",
            "Requirement already satisfied: certifi>=2017.4.17 in /usr/local/lib/python3.10/dist-packages (from requests->transformers) (2024.2.2)\n"
          ]
        }
      ]
    },
    {
      "cell_type": "code",
      "source": [
        "# Text summarization using Pipeline\n",
        "\n",
        "import transformers\n",
        "from transformers import pipeline\n",
        "# Summarization\n",
        "summarizer = pipeline(\"summarization\")\n",
        "summary = summarizer(paragraph, max_length=300, min_length=30, do_sample=False)"
      ],
      "metadata": {
        "colab": {
          "base_uri": "https://localhost:8080/"
        },
        "id": "L8iGpAI31EI9",
        "outputId": "9dd065f5-311e-48ca-c039-21335d8092af"
      },
      "execution_count": 95,
      "outputs": [
        {
          "output_type": "stream",
          "name": "stderr",
          "text": [
            "No model was supplied, defaulted to sshleifer/distilbart-cnn-12-6 and revision a4f8f3e (https://huggingface.co/sshleifer/distilbart-cnn-12-6).\n",
            "Using a pipeline without specifying a model name and revision in production is not recommended.\n",
            "Your max_length is set to 300, but your input_length is only 187. Since this is a summarization task, where outputs shorter than the input are typically wanted, you might consider decreasing max_length manually, e.g. summarizer('...', max_length=93)\n"
          ]
        }
      ]
    },
    {
      "cell_type": "code",
      "source": [
        "print(summary)"
      ],
      "metadata": {
        "colab": {
          "base_uri": "https://localhost:8080/"
        },
        "id": "uL-gfCQF2LJb",
        "outputId": "41e8cdc6-5d1b-435f-b634-849eac686219"
      },
      "execution_count": 96,
      "outputs": [
        {
          "output_type": "stream",
          "name": "stdout",
          "text": [
            "[{'summary_text': ' Java is the name of a programming language created by Sun Microsystems . It is designed to be platform-independent, which means that code written in Java can run on any device or operating system that has a Java Virtual Machine (JVM) installed . Java 20 is the latest version (will be supported until September 2023) Java 17, 11 and 8 are the current long-term support (LTS) versions .'}]\n"
          ]
        }
      ]
    },
    {
      "cell_type": "markdown",
      "source": [
        "# Text Generation"
      ],
      "metadata": {
        "id": "R_criBDU2ji-"
      }
    },
    {
      "cell_type": "code",
      "source": [
        "text_generator = pipeline(\"text-generation\")\n",
        "Generated_Text = text_generator(\"Java is\", max_length=300, do_sample=False)"
      ],
      "metadata": {
        "colab": {
          "base_uri": "https://localhost:8080/"
        },
        "id": "bnvoEgTO2mlJ",
        "outputId": "9f724963-00fb-4eb2-cc79-ca595e685b8a"
      },
      "execution_count": 99,
      "outputs": [
        {
          "output_type": "stream",
          "name": "stderr",
          "text": [
            "No model was supplied, defaulted to openai-community/gpt2 and revision 6c0e608 (https://huggingface.co/openai-community/gpt2).\n",
            "Using a pipeline without specifying a model name and revision in production is not recommended.\n",
            "Truncation was not explicitly activated but `max_length` is provided a specific value, please use `truncation=True` to explicitly truncate examples to max length. Defaulting to 'longest_first' truncation strategy. If you encode pairs of sequences (GLUE-style) with the tokenizer you can select this strategy more precisely by providing a specific strategy to `truncation`.\n",
            "Setting `pad_token_id` to `eos_token_id`:50256 for open-end generation.\n"
          ]
        }
      ]
    },
    {
      "cell_type": "code",
      "source": [
        "print(Generated_Text)"
      ],
      "metadata": {
        "colab": {
          "base_uri": "https://localhost:8080/"
        },
        "id": "DFvhBGIv2zWZ",
        "outputId": "6b5b8116-8231-4e4f-fc82-486eb05c23f5"
      },
      "execution_count": 98,
      "outputs": [
        {
          "output_type": "stream",
          "name": "stdout",
          "text": [
            "[{'generated_text': 'Java is a very good choice for this.\\n\\nThe first thing to do is to install the latest version of the Java SE Runtime Environment (JRE).\\n\\nDownload the latest version of the Java SE Runtime Environment (JRE) from the'}]\n"
          ]
        }
      ]
    }
  ]
}