{
  "nbformat": 4,
  "nbformat_minor": 0,
  "metadata": {
    "colab": {
      "provenance": [],
      "authorship_tag": "ABX9TyPTMKR2EwZ0GKEcoRUYKHqd",
      "include_colab_link": true
    },
    "kernelspec": {
      "name": "python3",
      "display_name": "Python 3"
    },
    "language_info": {
      "name": "python"
    }
  },
  "cells": [
    {
      "cell_type": "markdown",
      "metadata": {
        "id": "view-in-github",
        "colab_type": "text"
      },
      "source": [
        "<a href=\"https://colab.research.google.com/github/Khodwepratik/NLP_Basic/blob/main/Tokenizer_NLTK.ipynb\" target=\"_parent\"><img src=\"https://colab.research.google.com/assets/colab-badge.svg\" alt=\"Open In Colab\"/></a>"
      ]
    },
    {
      "cell_type": "markdown",
      "source": [
        "# NLTK word tokenizing\n",
        "date 14 March 2024  (Enlisting the words  from Paragraphs)\n"
      ],
      "metadata": {
        "id": "iHVow_Z_XtAc"
      }
    },
    {
      "cell_type": "code",
      "source": [
        "!pip install nltk\n"
      ],
      "metadata": {
        "colab": {
          "base_uri": "https://localhost:8080/"
        },
        "id": "rIli7MLnKRDe",
        "outputId": "59d36c72-6315-4013-d241-7d5d0ea05d4d"
      },
      "execution_count": 1,
      "outputs": [
        {
          "output_type": "stream",
          "name": "stdout",
          "text": [
            "Requirement already satisfied: nltk in /usr/local/lib/python3.10/dist-packages (3.8.1)\n",
            "Requirement already satisfied: click in /usr/local/lib/python3.10/dist-packages (from nltk) (8.1.7)\n",
            "Requirement already satisfied: joblib in /usr/local/lib/python3.10/dist-packages (from nltk) (1.3.2)\n",
            "Requirement already satisfied: regex>=2021.8.3 in /usr/local/lib/python3.10/dist-packages (from nltk) (2023.12.25)\n",
            "Requirement already satisfied: tqdm in /usr/local/lib/python3.10/dist-packages (from nltk) (4.66.2)\n"
          ]
        }
      ]
    },
    {
      "cell_type": "code",
      "source": [
        "import nltk\n",
        "from nltk.tokenize import sent_tokenize, word_tokenize\n",
        "from nltk.tag import pos_tag"
      ],
      "metadata": {
        "id": "1slWkLFsKsVO"
      },
      "execution_count": 2,
      "outputs": []
    },
    {
      "cell_type": "code",
      "source": [
        "paragraph=\"\"\"Java is a secured language. It is a robust Language.Being architecture-neutral and having no implementation dependent aspects\n",
        "of the specification makes Java as a portable Language.\"\"\""
      ],
      "metadata": {
        "id": "UwR1BHAhKuEm"
      },
      "execution_count": 3,
      "outputs": []
    },
    {
      "cell_type": "code",
      "source": [
        "print(paragraph)"
      ],
      "metadata": {
        "colab": {
          "base_uri": "https://localhost:8080/"
        },
        "id": "fzFNidCKLGj9",
        "outputId": "741b1957-ce89-4d6f-e110-514579d29321"
      },
      "execution_count": 4,
      "outputs": [
        {
          "output_type": "stream",
          "name": "stdout",
          "text": [
            "Java is a secured language. It is a robust Language.Being architecture-neutral and having no implementation dependent aspects\n",
            "of the specification makes Java as a portable Language.\n"
          ]
        }
      ]
    },
    {
      "cell_type": "code",
      "source": [
        "nltk.download ('punkt')\n",
        "sentences = sent_tokenize(paragraph)\n",
        "\n",
        "print(\"Sentences:\")\n",
        "for sentence in sentences:\n",
        "    print(sentence)"
      ],
      "metadata": {
        "colab": {
          "base_uri": "https://localhost:8080/"
        },
        "id": "ye-b0B09LXif",
        "outputId": "63f50f8b-74b6-43fb-d6a3-866eaeb01aa1"
      },
      "execution_count": 5,
      "outputs": [
        {
          "output_type": "stream",
          "name": "stderr",
          "text": [
            "[nltk_data] Downloading package punkt to /root/nltk_data...\n",
            "[nltk_data]   Unzipping tokenizers/punkt.zip.\n"
          ]
        },
        {
          "output_type": "stream",
          "name": "stdout",
          "text": [
            "Sentences:\n",
            "Java is a secured language.\n",
            "It is a robust Language.Being architecture-neutral and having no implementation dependent aspects\n",
            "of the specification makes Java as a portable Language.\n"
          ]
        }
      ]
    },
    {
      "cell_type": "code",
      "source": [
        "import nltk\n",
        "nltk.download('averaged_perceptron_tagger')"
      ],
      "metadata": {
        "colab": {
          "base_uri": "https://localhost:8080/"
        },
        "id": "9mrb04WWM1PW",
        "outputId": "0d1001dd-09f8-47a9-d135-a70885055fac"
      },
      "execution_count": null,
      "outputs": [
        {
          "output_type": "stream",
          "name": "stderr",
          "text": [
            "[nltk_data] Downloading package averaged_perceptron_tagger to\n",
            "[nltk_data]     /root/nltk_data...\n",
            "[nltk_data]   Unzipping taggers/averaged_perceptron_tagger.zip.\n"
          ]
        },
        {
          "output_type": "execute_result",
          "data": {
            "text/plain": [
              "True"
            ]
          },
          "metadata": {},
          "execution_count": 64
        }
      ]
    },
    {
      "cell_type": "code",
      "source": [
        "important_words = []\n",
        "for sentence in sentences:\n",
        "    words = word_tokenize(sentence)\n",
        "    tagged_words = pos_tag(words)\n",
        "    for word, tag in tagged_words:\n",
        "        if tag.startswith('NN') or tag.startswith('VB') or tag.startswith('JJ') or tag.startswith('RB'):\n",
        "            important_words.append(word)\n",
        "\n",
        "\n",
        "important_words = list(set(important_words))\n",
        "\n",
        "print(\"\\nImportant Words:\")\n",
        "for word in important_words:\n",
        "    print(word)"
      ],
      "metadata": {
        "colab": {
          "base_uri": "https://localhost:8080/"
        },
        "id": "qeWYlCjZKQPf",
        "outputId": "de0cd4a4-d70d-4dc3-e645-1b04bf2043d2"
      },
      "execution_count": null,
      "outputs": [
        {
          "output_type": "stream",
          "name": "stdout",
          "text": [
            "\n",
            "Important Words:\n",
            "language\n",
            "architecture-neutral\n",
            "Language.Being\n",
            "having\n",
            "specification\n",
            "Language\n",
            "secured\n",
            "portable\n",
            "dependent\n",
            "implementation\n",
            "makes\n",
            "aspects\n",
            "is\n",
            "robust\n",
            "Java\n"
          ]
        }
      ]
    }
  ]
}