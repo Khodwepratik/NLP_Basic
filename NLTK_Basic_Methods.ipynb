{
  "nbformat": 4,
  "nbformat_minor": 0,
  "metadata": {
    "colab": {
      "provenance": [],
      "authorship_tag": "ABX9TyOuUt/9qAJz+EP9lLu3GUzq",
      "include_colab_link": true
    },
    "kernelspec": {
      "name": "python3",
      "display_name": "Python 3"
    },
    "language_info": {
      "name": "python"
    }
  },
  "cells": [
    {
      "cell_type": "markdown",
      "metadata": {
        "id": "view-in-github",
        "colab_type": "text"
      },
      "source": [
        "<a href=\"https://colab.research.google.com/github/Khodwepratik/NLP_Basic/blob/main/NLTK_Basic_Methods.ipynb\" target=\"_parent\"><img src=\"https://colab.research.google.com/assets/colab-badge.svg\" alt=\"Open In Colab\"/></a>"
      ]
    },
    {
      "cell_type": "code",
      "source": [
        "!pip install nltk"
      ],
      "metadata": {
        "colab": {
          "base_uri": "https://localhost:8080/"
        },
        "id": "UbY5B6SzWQwb",
        "outputId": "5e8cb32e-f8de-4326-cf8f-9656f74bcc69"
      },
      "execution_count": 3,
      "outputs": [
        {
          "output_type": "stream",
          "name": "stdout",
          "text": [
            "Requirement already satisfied: nltk in /usr/local/lib/python3.10/dist-packages (3.8.1)\n",
            "Requirement already satisfied: click in /usr/local/lib/python3.10/dist-packages (from nltk) (8.1.7)\n",
            "Requirement already satisfied: joblib in /usr/local/lib/python3.10/dist-packages (from nltk) (1.3.2)\n",
            "Requirement already satisfied: regex>=2021.8.3 in /usr/local/lib/python3.10/dist-packages (from nltk) (2023.12.25)\n",
            "Requirement already satisfied: tqdm in /usr/local/lib/python3.10/dist-packages (from nltk) (4.66.2)\n"
          ]
        }
      ]
    },
    {
      "cell_type": "code",
      "source": [
        "import nltk\n",
        "nltk.download('punkt')"
      ],
      "metadata": {
        "colab": {
          "base_uri": "https://localhost:8080/"
        },
        "id": "Xt4j8V2cWZ0k",
        "outputId": "e99fb2fe-5185-437f-920f-b807aeef841a"
      },
      "execution_count": 4,
      "outputs": [
        {
          "output_type": "stream",
          "name": "stderr",
          "text": [
            "[nltk_data] Downloading package punkt to /root/nltk_data...\n",
            "[nltk_data]   Unzipping tokenizers/punkt.zip.\n"
          ]
        },
        {
          "output_type": "execute_result",
          "data": {
            "text/plain": [
              "True"
            ]
          },
          "metadata": {},
          "execution_count": 4
        }
      ]
    },
    {
      "cell_type": "code",
      "source": [],
      "metadata": {
        "id": "GYD86eFpkqYm"
      },
      "execution_count": null,
      "outputs": []
    },
    {
      "cell_type": "markdown",
      "source": [
        "# Sentence Tokenization\n",
        "(paragraph to sentence)"
      ],
      "metadata": {
        "id": "Qm6PTQ2rb7DX"
      }
    },
    {
      "cell_type": "code",
      "source": [
        "from nltk import sent_tokenize"
      ],
      "metadata": {
        "id": "hSdsoNzWWi-g"
      },
      "execution_count": null,
      "outputs": []
    },
    {
      "cell_type": "code",
      "source": [
        "para=\"\"\" Java is the name of a programming language created by Sun Microsystems. This company was bought out by Oracle Corporation, which continues to keep it up to date. It is designed to be platform-independent, which means that code written in Java can run on any device or operating system that has a Java Virtual Machine (JVM) installed. This makes Java a popular choice for developing cross-platform applications and games. Additionally, Java has a large and active community, and a wide range of libraries and frameworks available for use.[1] As of March 2023, Java 20 is the latest version (will be supported until September 2023), while Java 17, 11 and 8 are the current long-term support (LTS) versions. Being an LTS version means that it will continue getting updates for multiple years. The next planned LTS version is Java 21 (LTS), planned for September 2023. \"\"\""
      ],
      "metadata": {
        "id": "Tzxn5oIIUNRJ"
      },
      "execution_count": null,
      "outputs": []
    },
    {
      "cell_type": "code",
      "source": [
        "sentences = sent_tokenize(para)\n",
        "print(sentences)"
      ],
      "metadata": {
        "colab": {
          "base_uri": "https://localhost:8080/"
        },
        "id": "35Yq-MvUWQUy",
        "outputId": "5b12f86e-816d-4155-e75c-653cf6728d0c"
      },
      "execution_count": null,
      "outputs": [
        {
          "output_type": "stream",
          "name": "stdout",
          "text": [
            "[' Java is the name of a programming language created by Sun Microsystems.', 'This company was bought out by Oracle Corporation, which continues to keep it up to date.', 'It is designed to be platform-independent, which means that code written in Java can run on any device or operating system that has a Java Virtual Machine (JVM) installed.', 'This makes Java a popular choice for developing cross-platform applications and games.', 'Additionally, Java has a large and active community, and a wide range of libraries and frameworks available for use.', '[1] As of March 2023, Java 20 is the latest version (will be supported until September 2023), while Java 17, 11 and 8 are the current long-term support (LTS) versions.', 'Being an LTS version means that it will continue getting updates for multiple years.', 'The next planned LTS version is Java 21 (LTS), planned for September 2023.']\n"
          ]
        }
      ]
    },
    {
      "cell_type": "markdown",
      "source": [
        "# Word Tokenize\n",
        "(sentence to words)"
      ],
      "metadata": {
        "id": "QG9fOP7DcHqF"
      }
    },
    {
      "cell_type": "code",
      "source": [
        "from nltk import word_tokenize"
      ],
      "metadata": {
        "id": "JQaoSNrYW2dx"
      },
      "execution_count": null,
      "outputs": []
    },
    {
      "cell_type": "code",
      "source": [
        "tokenized_text=word_tokenize(para)\n",
        "print (tokenized_text)"
      ],
      "metadata": {
        "colab": {
          "base_uri": "https://localhost:8080/"
        },
        "id": "0wEvFsbGYGKJ",
        "outputId": "8f6135b4-f618-4082-dda3-2568fe2ea6cb"
      },
      "execution_count": null,
      "outputs": [
        {
          "output_type": "stream",
          "name": "stdout",
          "text": [
            "['Java', 'is', 'the', 'name', 'of', 'a', 'programming', 'language', 'created', 'by', 'Sun', 'Microsystems', '.', 'This', 'company', 'was', 'bought', 'out', 'by', 'Oracle', 'Corporation', ',', 'which', 'continues', 'to', 'keep', 'it', 'up', 'to', 'date', '.', 'It', 'is', 'designed', 'to', 'be', 'platform-independent', ',', 'which', 'means', 'that', 'code', 'written', 'in', 'Java', 'can', 'run', 'on', 'any', 'device', 'or', 'operating', 'system', 'that', 'has', 'a', 'Java', 'Virtual', 'Machine', '(', 'JVM', ')', 'installed', '.', 'This', 'makes', 'Java', 'a', 'popular', 'choice', 'for', 'developing', 'cross-platform', 'applications', 'and', 'games', '.', 'Additionally', ',', 'Java', 'has', 'a', 'large', 'and', 'active', 'community', ',', 'and', 'a', 'wide', 'range', 'of', 'libraries', 'and', 'frameworks', 'available', 'for', 'use', '.', '[', '1', ']', 'As', 'of', 'March', '2023', ',', 'Java', '20', 'is', 'the', 'latest', 'version', '(', 'will', 'be', 'supported', 'until', 'September', '2023', ')', ',', 'while', 'Java', '17', ',', '11', 'and', '8', 'are', 'the', 'current', 'long-term', 'support', '(', 'LTS', ')', 'versions', '.', 'Being', 'an', 'LTS', 'version', 'means', 'that', 'it', 'will', 'continue', 'getting', 'updates', 'for', 'multiple', 'years', '.', 'The', 'next', 'planned', 'LTS', 'version', 'is', 'Java', '21', '(', 'LTS', ')', ',', 'planned', 'for', 'September', '2023', '.']\n"
          ]
        }
      ]
    },
    {
      "cell_type": "markdown",
      "source": [
        "# how to remove frequently occured text in NLTK\n",
        "(Stop Words Removal\n",
        ")\n"
      ],
      "metadata": {
        "id": "aul8OXokYmjo"
      }
    },
    {
      "cell_type": "code",
      "source": [
        "from nltk.corpus import stopwords\n",
        "from nltk.tokenize import word_tokenize\n",
        "\n",
        "nltk.download('stopwords')"
      ],
      "metadata": {
        "colab": {
          "base_uri": "https://localhost:8080/"
        },
        "id": "G9xU7vzbYu8v",
        "outputId": "18f3f228-2949-44f8-83c4-db6177194768"
      },
      "execution_count": null,
      "outputs": [
        {
          "output_type": "stream",
          "name": "stderr",
          "text": [
            "[nltk_data] Downloading package stopwords to /root/nltk_data...\n",
            "[nltk_data]   Unzipping corpora/stopwords.zip.\n"
          ]
        },
        {
          "output_type": "execute_result",
          "data": {
            "text/plain": [
              "True"
            ]
          },
          "metadata": {},
          "execution_count": 40
        }
      ]
    },
    {
      "cell_type": "code",
      "source": [
        "para=\"\"\" Java is the name of a programming language created by Sun Microsystems. This company was bought out by Oracle Corporation, which continues to keep it up to date. It is designed to be platform-independent, which means that code written in Java can run on any device or operating system that has a Java Virtual Machine (JVM) installed. This makes Java a popular choice for developing cross-platform applications and games. Additionally, Java has a large and active community, and a wide range of libraries and frameworks available for use.[1] As of March 2023, Java 20 is the latest version (will be supported until September 2023), while Java 17, 11 and 8 are the current long-term support (LTS) versions. Being an LTS version means that it will continue getting updates for multiple years. The next planned LTS version is Java 21 (LTS), planned for September 2023. \"\"\""
      ],
      "metadata": {
        "id": "9yXALOcbaqnV"
      },
      "execution_count": null,
      "outputs": []
    },
    {
      "cell_type": "code",
      "source": [
        "to_be_removed = set(stopwords.words('english'))\n",
        "tokenized_para=word_tokenize(para)\n",
        "print(tokenized_para)\n",
        "modified_token_list=[word for word in tokenized_para if not word in to_be_removed]\n",
        "print(modified_token_list)"
      ],
      "metadata": {
        "colab": {
          "base_uri": "https://localhost:8080/"
        },
        "id": "rIB4FSzOanU2",
        "outputId": "13cbae85-81b4-412c-e9d9-69a864d3c516"
      },
      "execution_count": null,
      "outputs": [
        {
          "output_type": "stream",
          "name": "stdout",
          "text": [
            "['Java', 'is', 'the', 'name', 'of', 'a', 'programming', 'language', 'created', 'by', 'Sun', 'Microsystems', '.', 'This', 'company', 'was', 'bought', 'out', 'by', 'Oracle', 'Corporation', ',', 'which', 'continues', 'to', 'keep', 'it', 'up', 'to', 'date', '.', 'It', 'is', 'designed', 'to', 'be', 'platform-independent', ',', 'which', 'means', 'that', 'code', 'written', 'in', 'Java', 'can', 'run', 'on', 'any', 'device', 'or', 'operating', 'system', 'that', 'has', 'a', 'Java', 'Virtual', 'Machine', '(', 'JVM', ')', 'installed', '.', 'This', 'makes', 'Java', 'a', 'popular', 'choice', 'for', 'developing', 'cross-platform', 'applications', 'and', 'games', '.', 'Additionally', ',', 'Java', 'has', 'a', 'large', 'and', 'active', 'community', ',', 'and', 'a', 'wide', 'range', 'of', 'libraries', 'and', 'frameworks', 'available', 'for', 'use', '.', '[', '1', ']', 'As', 'of', 'March', '2023', ',', 'Java', '20', 'is', 'the', 'latest', 'version', '(', 'will', 'be', 'supported', 'until', 'September', '2023', ')', ',', 'while', 'Java', '17', ',', '11', 'and', '8', 'are', 'the', 'current', 'long-term', 'support', '(', 'LTS', ')', 'versions', '.', 'Being', 'an', 'LTS', 'version', 'means', 'that', 'it', 'will', 'continue', 'getting', 'updates', 'for', 'multiple', 'years', '.', 'The', 'next', 'planned', 'LTS', 'version', 'is', 'Java', '21', '(', 'LTS', ')', ',', 'planned', 'for', 'September', '2023', '.']\n",
            "['Java', 'name', 'programming', 'language', 'created', 'Sun', 'Microsystems', '.', 'This', 'company', 'bought', 'Oracle', 'Corporation', ',', 'continues', 'keep', 'date', '.', 'It', 'designed', 'platform-independent', ',', 'means', 'code', 'written', 'Java', 'run', 'device', 'operating', 'system', 'Java', 'Virtual', 'Machine', '(', 'JVM', ')', 'installed', '.', 'This', 'makes', 'Java', 'popular', 'choice', 'developing', 'cross-platform', 'applications', 'games', '.', 'Additionally', ',', 'Java', 'large', 'active', 'community', ',', 'wide', 'range', 'libraries', 'frameworks', 'available', 'use', '.', '[', '1', ']', 'As', 'March', '2023', ',', 'Java', '20', 'latest', 'version', '(', 'supported', 'September', '2023', ')', ',', 'Java', '17', ',', '11', '8', 'current', 'long-term', 'support', '(', 'LTS', ')', 'versions', '.', 'Being', 'LTS', 'version', 'means', 'continue', 'getting', 'updates', 'multiple', 'years', '.', 'The', 'next', 'planned', 'LTS', 'version', 'Java', '21', '(', 'LTS', ')', ',', 'planned', 'September', '2023', '.']\n"
          ]
        }
      ]
    },
    {
      "cell_type": "markdown",
      "source": [
        "# Stemming of words #\n",
        "**porter Stemmer  (words to the original form Eg: Running to run)**:"
      ],
      "metadata": {
        "id": "TjMTeJb0gKN9"
      }
    },
    {
      "cell_type": "code",
      "source": [
        "from nltk.stem import PorterStemmer\n",
        "from nltk.tokenize import word_tokenize\n",
        "stemmer = PorterStemmer()\n",
        "\n",
        "tk_para= modified_token_list\n",
        "stemmed_words = [stemmer.stem(i) for i in tk_para]\n",
        "\n",
        "print (modified_token_list)\n",
        "\n",
        "\n",
        "print (\"Stemmed Words\")\n",
        "print('\\n')\n",
        "\n",
        "print(stemmed_words)\n"
      ],
      "metadata": {
        "colab": {
          "base_uri": "https://localhost:8080/"
        },
        "id": "5wXdPWjneyRL",
        "outputId": "4c49b6c9-d2ca-41e5-d12e-2fa51db9e4bf"
      },
      "execution_count": null,
      "outputs": [
        {
          "output_type": "stream",
          "name": "stdout",
          "text": [
            "['Java', 'name', 'programming', 'language', 'created', 'Sun', 'Microsystems', '.', 'This', 'company', 'bought', 'Oracle', 'Corporation', ',', 'continues', 'keep', 'date', '.', 'It', 'designed', 'platform-independent', ',', 'means', 'code', 'written', 'Java', 'run', 'device', 'operating', 'system', 'Java', 'Virtual', 'Machine', '(', 'JVM', ')', 'installed', '.', 'This', 'makes', 'Java', 'popular', 'choice', 'developing', 'cross-platform', 'applications', 'games', '.', 'Additionally', ',', 'Java', 'large', 'active', 'community', ',', 'wide', 'range', 'libraries', 'frameworks', 'available', 'use', '.', '[', '1', ']', 'As', 'March', '2023', ',', 'Java', '20', 'latest', 'version', '(', 'supported', 'September', '2023', ')', ',', 'Java', '17', ',', '11', '8', 'current', 'long-term', 'support', '(', 'LTS', ')', 'versions', '.', 'Being', 'LTS', 'version', 'means', 'continue', 'getting', 'updates', 'multiple', 'years', '.', 'The', 'next', 'planned', 'LTS', 'version', 'Java', '21', '(', 'LTS', ')', ',', 'planned', 'September', '2023', '.']\n",
            "Stemmed Words\n",
            "\n",
            "\n",
            "['java', 'name', 'program', 'languag', 'creat', 'sun', 'microsystem', '.', 'thi', 'compani', 'bought', 'oracl', 'corpor', ',', 'continu', 'keep', 'date', '.', 'it', 'design', 'platform-independ', ',', 'mean', 'code', 'written', 'java', 'run', 'devic', 'oper', 'system', 'java', 'virtual', 'machin', '(', 'jvm', ')', 'instal', '.', 'thi', 'make', 'java', 'popular', 'choic', 'develop', 'cross-platform', 'applic', 'game', '.', 'addit', ',', 'java', 'larg', 'activ', 'commun', ',', 'wide', 'rang', 'librari', 'framework', 'avail', 'use', '.', '[', '1', ']', 'as', 'march', '2023', ',', 'java', '20', 'latest', 'version', '(', 'support', 'septemb', '2023', ')', ',', 'java', '17', ',', '11', '8', 'current', 'long-term', 'support', '(', 'lt', ')', 'version', '.', 'be', 'lt', 'version', 'mean', 'continu', 'get', 'updat', 'multipl', 'year', '.', 'the', 'next', 'plan', 'lt', 'version', 'java', '21', '(', 'lt', ')', ',', 'plan', 'septemb', '2023', '.']\n"
          ]
        }
      ]
    },
    {
      "cell_type": "markdown",
      "source": [
        "# Word Lemmatizer implementation"
      ],
      "metadata": {
        "id": "36hTTc4wxA1a"
      }
    },
    {
      "cell_type": "code",
      "source": [
        "import nltk\n",
        "from nltk.stem import WordNetLemmatizer\n",
        "from nltk import word_tokenize\n",
        "\n",
        "nltk.download('wordnet')\n",
        "\n",
        "lemmatizer= WordNetLemmatizer()\n",
        "\n",
        "para=\"\"\"Java is the name of a programming language created by Sun Microsystems. This company was bought out by Oracle Corporation, which continues to keep it up to date. It is designed to be platform-independent, which means that code written in Java can run on any device or operating system that has a Java Virtual Machine (JVM) installed. This makes Java a popular choice for developing cross-platform applications and games. Additionally, Java has a large and active community, and a wide range of libraries and frameworks available for use.[1] As of March 2023, Java 20 is the latest version (will be supported until September 2023), while Java 17, 11 and 8 are the current long-term support (LTS) versions. Being an LTS version means that it will continue getting updates for multiple years. The next planned LTS version is Java 21 (LTS), planned for September 2023. \"\"\"\n",
        "\n",
        "tk_para = word_tokenize(para)\n",
        "lemmatized_words = [lemmatizer.lemmatize(i) for i in para]\n",
        "print(lemmatized_words)"
      ],
      "metadata": {
        "id": "zwLlxYSzcVqe",
        "colab": {
          "base_uri": "https://localhost:8080/"
        },
        "outputId": "2e086333-40ae-421a-8a97-7fb1f8efb067"
      },
      "execution_count": 6,
      "outputs": [
        {
          "output_type": "stream",
          "name": "stderr",
          "text": [
            "[nltk_data] Downloading package wordnet to /root/nltk_data...\n"
          ]
        },
        {
          "output_type": "stream",
          "name": "stdout",
          "text": [
            "['J', 'a', 'v', 'a', ' ', 'i', 's', ' ', 't', 'h', 'e', ' ', 'n', 'a', 'm', 'e', ' ', 'o', 'f', ' ', 'a', ' ', 'p', 'r', 'o', 'g', 'r', 'a', 'm', 'm', 'i', 'n', 'g', ' ', 'l', 'a', 'n', 'g', 'u', 'a', 'g', 'e', ' ', 'c', 'r', 'e', 'a', 't', 'e', 'd', ' ', 'b', 'y', ' ', 'S', 'u', 'n', ' ', 'M', 'i', 'c', 'r', 'o', 's', 'y', 's', 't', 'e', 'm', 's', '.', ' ', 'T', 'h', 'i', 's', ' ', 'c', 'o', 'm', 'p', 'a', 'n', 'y', ' ', 'w', 'a', 's', ' ', 'b', 'o', 'u', 'g', 'h', 't', ' ', 'o', 'u', 't', ' ', 'b', 'y', ' ', 'O', 'r', 'a', 'c', 'l', 'e', ' ', 'C', 'o', 'r', 'p', 'o', 'r', 'a', 't', 'i', 'o', 'n', ',', ' ', 'w', 'h', 'i', 'c', 'h', ' ', 'c', 'o', 'n', 't', 'i', 'n', 'u', 'e', 's', ' ', 't', 'o', ' ', 'k', 'e', 'e', 'p', ' ', 'i', 't', ' ', 'u', 'p', ' ', 't', 'o', ' ', 'd', 'a', 't', 'e', '.', ' ', 'I', 't', ' ', 'i', 's', ' ', 'd', 'e', 's', 'i', 'g', 'n', 'e', 'd', ' ', 't', 'o', ' ', 'b', 'e', ' ', 'p', 'l', 'a', 't', 'f', 'o', 'r', 'm', '-', 'i', 'n', 'd', 'e', 'p', 'e', 'n', 'd', 'e', 'n', 't', ',', ' ', 'w', 'h', 'i', 'c', 'h', ' ', 'm', 'e', 'a', 'n', 's', ' ', 't', 'h', 'a', 't', ' ', 'c', 'o', 'd', 'e', ' ', 'w', 'r', 'i', 't', 't', 'e', 'n', ' ', 'i', 'n', ' ', 'J', 'a', 'v', 'a', ' ', 'c', 'a', 'n', ' ', 'r', 'u', 'n', ' ', 'o', 'n', ' ', 'a', 'n', 'y', ' ', 'd', 'e', 'v', 'i', 'c', 'e', ' ', 'o', 'r', ' ', 'o', 'p', 'e', 'r', 'a', 't', 'i', 'n', 'g', ' ', 's', 'y', 's', 't', 'e', 'm', ' ', 't', 'h', 'a', 't', ' ', 'h', 'a', 's', ' ', 'a', ' ', 'J', 'a', 'v', 'a', ' ', 'V', 'i', 'r', 't', 'u', 'a', 'l', ' ', 'M', 'a', 'c', 'h', 'i', 'n', 'e', ' ', '(', 'J', 'V', 'M', ')', ' ', 'i', 'n', 's', 't', 'a', 'l', 'l', 'e', 'd', '.', ' ', 'T', 'h', 'i', 's', ' ', 'm', 'a', 'k', 'e', 's', ' ', 'J', 'a', 'v', 'a', ' ', 'a', ' ', 'p', 'o', 'p', 'u', 'l', 'a', 'r', ' ', 'c', 'h', 'o', 'i', 'c', 'e', ' ', 'f', 'o', 'r', ' ', 'd', 'e', 'v', 'e', 'l', 'o', 'p', 'i', 'n', 'g', ' ', 'c', 'r', 'o', 's', 's', '-', 'p', 'l', 'a', 't', 'f', 'o', 'r', 'm', ' ', 'a', 'p', 'p', 'l', 'i', 'c', 'a', 't', 'i', 'o', 'n', 's', ' ', 'a', 'n', 'd', ' ', 'g', 'a', 'm', 'e', 's', '.', ' ', 'A', 'd', 'd', 'i', 't', 'i', 'o', 'n', 'a', 'l', 'l', 'y', ',', ' ', 'J', 'a', 'v', 'a', ' ', 'h', 'a', 's', ' ', 'a', ' ', 'l', 'a', 'r', 'g', 'e', ' ', 'a', 'n', 'd', ' ', 'a', 'c', 't', 'i', 'v', 'e', ' ', 'c', 'o', 'm', 'm', 'u', 'n', 'i', 't', 'y', ',', ' ', 'a', 'n', 'd', ' ', 'a', ' ', 'w', 'i', 'd', 'e', ' ', 'r', 'a', 'n', 'g', 'e', ' ', 'o', 'f', ' ', 'l', 'i', 'b', 'r', 'a', 'r', 'i', 'e', 's', ' ', 'a', 'n', 'd', ' ', 'f', 'r', 'a', 'm', 'e', 'w', 'o', 'r', 'k', 's', ' ', 'a', 'v', 'a', 'i', 'l', 'a', 'b', 'l', 'e', ' ', 'f', 'o', 'r', ' ', 'u', 's', 'e', '.', '[', '1', ']', ' ', 'A', 's', ' ', 'o', 'f', ' ', 'M', 'a', 'r', 'c', 'h', ' ', '2', '0', '2', '3', ',', ' ', 'J', 'a', 'v', 'a', ' ', '2', '0', ' ', 'i', 's', ' ', 't', 'h', 'e', ' ', 'l', 'a', 't', 'e', 's', 't', ' ', 'v', 'e', 'r', 's', 'i', 'o', 'n', ' ', '(', 'w', 'i', 'l', 'l', ' ', 'b', 'e', ' ', 's', 'u', 'p', 'p', 'o', 'r', 't', 'e', 'd', ' ', 'u', 'n', 't', 'i', 'l', ' ', 'S', 'e', 'p', 't', 'e', 'm', 'b', 'e', 'r', ' ', '2', '0', '2', '3', ')', ',', ' ', 'w', 'h', 'i', 'l', 'e', ' ', 'J', 'a', 'v', 'a', ' ', '1', '7', ',', ' ', '1', '1', ' ', 'a', 'n', 'd', ' ', '8', ' ', 'a', 'r', 'e', ' ', 't', 'h', 'e', ' ', 'c', 'u', 'r', 'r', 'e', 'n', 't', ' ', 'l', 'o', 'n', 'g', '-', 't', 'e', 'r', 'm', ' ', 's', 'u', 'p', 'p', 'o', 'r', 't', ' ', '(', 'L', 'T', 'S', ')', ' ', 'v', 'e', 'r', 's', 'i', 'o', 'n', 's', '.', ' ', 'B', 'e', 'i', 'n', 'g', ' ', 'a', 'n', ' ', 'L', 'T', 'S', ' ', 'v', 'e', 'r', 's', 'i', 'o', 'n', ' ', 'm', 'e', 'a', 'n', 's', ' ', 't', 'h', 'a', 't', ' ', 'i', 't', ' ', 'w', 'i', 'l', 'l', ' ', 'c', 'o', 'n', 't', 'i', 'n', 'u', 'e', ' ', 'g', 'e', 't', 't', 'i', 'n', 'g', ' ', 'u', 'p', 'd', 'a', 't', 'e', 's', ' ', 'f', 'o', 'r', ' ', 'm', 'u', 'l', 't', 'i', 'p', 'l', 'e', ' ', 'y', 'e', 'a', 'r', 's', '.', ' ', 'T', 'h', 'e', ' ', 'n', 'e', 'x', 't', ' ', 'p', 'l', 'a', 'n', 'n', 'e', 'd', ' ', 'L', 'T', 'S', ' ', 'v', 'e', 'r', 's', 'i', 'o', 'n', ' ', 'i', 's', ' ', 'J', 'a', 'v', 'a', ' ', '2', '1', ' ', '(', 'L', 'T', 'S', ')', ',', ' ', 'p', 'l', 'a', 'n', 'n', 'e', 'd', ' ', 'f', 'o', 'r', ' ', 'S', 'e', 'p', 't', 'e', 'm', 'b', 'e', 'r', ' ', '2', '0', '2', '3', '.', ' ']\n"
          ]
        }
      ]
    },
    {
      "cell_type": "markdown",
      "source": [
        "# WordNetLemmatizer with Parts of Speech Tagging"
      ],
      "metadata": {
        "id": "yceAd7LIwQ08"
      }
    },
    {
      "cell_type": "code",
      "source": [
        "# import these modules\n",
        "from nltk.stem import WordNetLemmatizer\n",
        "\n",
        "lemmatizer = WordNetLemmatizer()\n",
        "\n",
        "print(\"rocks :\", lemmatizer.lemmatize(\"rocks\"))\n",
        "print(\"corpora :\", lemmatizer.lemmatize(\"corpora\"))\n",
        "print (\"Runs:\", lemmatizer.lemmatize(\"Run\"))\n",
        "\n",
        "\n",
        "# a denotes adjective in \"part of speech\"\n",
        "\n",
        "print(\"better :\", lemmatizer.lemmatize(\"better\", pos=\"a\"))\n",
        "print(\"worst :\", lemmatizer.lemmatize(\"worst\", pos=\"a\"))\n"
      ],
      "metadata": {
        "colab": {
          "base_uri": "https://localhost:8080/"
        },
        "id": "7pz5llNyqipR",
        "outputId": "7a1086f7-6fa5-4f69-83a5-c9e6db75e25a"
      },
      "execution_count": 22,
      "outputs": [
        {
          "output_type": "stream",
          "name": "stdout",
          "text": [
            "rocks : rock\n",
            "corpora : corpus\n",
            "Runs: Run\n",
            "better : good\n",
            "worst : bad\n",
            "Broken : Broken\n"
          ]
        }
      ]
    },
    {
      "cell_type": "markdown",
      "source": [
        "# Lemmatization for a statement (from the All broucher of KCS)\n",
        "\n",
        "**Single lemmatization technique is done on the words for reducing in their original form**"
      ],
      "metadata": {
        "id": "kxzjz5PGufMu"
      }
    },
    {
      "cell_type": "code",
      "source": [
        "import spacy\n",
        "nlp = spacy.load('en_core_web_sm')\n",
        "\n",
        "# Taking a sample text\n",
        "para = \"InvestCap helps you monitor your investments in a parent company and all of its subsidiaries adeptly\"\n",
        "\n",
        "doc = nlp(para)\n",
        "\n",
        "# Extract lemmatized tokens\n",
        "lemmatized_tokens = [token.lemma_ for token in doc]\n",
        "\n",
        "# Join the lemmatized tokens into a sentence\n",
        "lemmatized_text = ' '.join(lemmatized_tokens)\n",
        "\n",
        "# Print the original and lemmatized text\n",
        "print(\"Original Text:\", para)\n",
        "print(\"Lemmatized Text:\", lemmatized_text)\n",
        "\n",
        "# Changed words in the following para are\n",
        " # 1. helps -> help\n",
        " # 2. investments -> investment\n",
        " # 3. subsidiaries -> sybsidiary\n",
        "\n"
      ],
      "metadata": {
        "colab": {
          "base_uri": "https://localhost:8080/"
        },
        "id": "eCxlMMd2tx-W",
        "outputId": "eb0969ae-45d3-45d1-c309-57c311b98f06"
      },
      "execution_count": 31,
      "outputs": [
        {
          "output_type": "stream",
          "name": "stdout",
          "text": [
            "Original Text: InvestCap helps you monitor your investments in a parent company and all of its subsidiaries adeptly\n",
            "Lemmatized Text: InvestCap help you monitor your investment in a parent company and all of its subsidiary adeptly\n"
          ]
        }
      ]
    },
    {
      "cell_type": "markdown",
      "source": [
        "# Types of Lemmatization\n",
        "\n",
        "1. Rule based Lemmatization\n",
        "2. Dictionary Based Lemmatization\n"
      ],
      "metadata": {
        "id": "jwI-JKCgx_MR"
      }
    },
    {
      "cell_type": "code",
      "source": [
        " # Rule Based Lemmatization ( Asked -> ask)\n",
        "\n",
        "import nltk\n",
        "from nltk.stem import PorterStemmer\n",
        "\n",
        "stemmer = PorterStemmer()\n",
        "lemma1 = stemmer.stem(\"Cleaned\")\n",
        "lemma2 = stemmer.stem(\"Supporting\")\n",
        "\n",
        "print(lemma1)\n",
        "print(lemma2)\n"
      ],
      "metadata": {
        "colab": {
          "base_uri": "https://localhost:8080/"
        },
        "id": "2PvdGpsWx9wR",
        "outputId": "137dee13-9dad-49bf-f4a9-f6f4889e66cc"
      },
      "execution_count": 43,
      "outputs": [
        {
          "output_type": "stream",
          "name": "stdout",
          "text": [
            "clean\n",
            "support\n"
          ]
        }
      ]
    },
    {
      "cell_type": "code",
      "source": [
        "# Dictonary -Based Lemmatization\n",
        "import nltk\n",
        "from nltk.stem import WordNetLemmatizer\n",
        "\n",
        "lemmatizer = WordNetLemmatizer()\n",
        "\n",
        "#Default when no pos specified\n",
        "lemma = lemmatizer.lemmatize(\"mice\")\n",
        "print(lemma)\n",
        "\n",
        "# v stands for verbs in part of speech\n",
        "lemma1 = lemmatizer.lemmatize(\"running\", pos=\"v\")\n",
        "print(lemma1)\n",
        "\n",
        "# a stands for adjectives in part of speech\n",
        "lemma2 = lemmatizer.lemmatize(\"better\", pos=\"a\")\n",
        "print(lemma2)\n",
        "\n",
        "\n"
      ],
      "metadata": {
        "colab": {
          "base_uri": "https://localhost:8080/"
        },
        "id": "6CrK--Uw0v_K",
        "outputId": "e0256efa-6b38-47b3-bb82-dbb903b3fdc0"
      },
      "execution_count": 65,
      "outputs": [
        {
          "output_type": "stream",
          "name": "stdout",
          "text": [
            "mouse\n",
            "run\n",
            "good\n"
          ]
        }
      ]
    },
    {
      "cell_type": "markdown",
      "source": [
        "# Parts of Speech"
      ],
      "metadata": {
        "id": "2-LmiVlA8y0E"
      }
    },
    {
      "cell_type": "code",
      "source": [
        "\n",
        "import nltk\n",
        "from nltk.tokenize import word_tokenize\n",
        "from nltk import pos_tag\n",
        "\n",
        "\n",
        "# Sample text\n",
        "text = \"She often visits the orphanages and old age homes in different parts of the country\"\n",
        "\n",
        "#tokenizing the words\n",
        "words= word_tokenize(text)\n",
        "\n",
        "# Performing PoS tagging\n",
        "pos_tags = pos_tag(words)\n",
        "\n",
        "# Displaying the PoS tagged result in separate lines\n",
        "print(\"Original Text:\", text)\n",
        "\n",
        "print(\"\\nPoS Tagging Result:\")\n",
        "for word, pos_tag in pos_tags:\n",
        "\tprint(f\"{word}: {pos_tag}\")\n"
      ],
      "metadata": {
        "colab": {
          "base_uri": "https://localhost:8080/"
        },
        "id": "Cy0755gd83yb",
        "outputId": "12ae66b7-05ed-4039-afed-c3f27ddc6b03"
      },
      "execution_count": 76,
      "outputs": [
        {
          "output_type": "stream",
          "name": "stdout",
          "text": [
            "Original Text: She often visits the orphanages and old age homes in different parts of the country\n",
            "\n",
            "PoS Tagging Result:\n",
            "She: PRP\n",
            "often: RB\n",
            "visits: VBZ\n",
            "the: DT\n",
            "orphanages: NNS\n",
            "and: CC\n",
            "old: JJ\n",
            "age: NN\n",
            "homes: NNS\n",
            "in: IN\n",
            "different: JJ\n",
            "parts: NNS\n",
            "of: IN\n",
            "the: DT\n",
            "country: NN\n"
          ]
        }
      ]
    },
    {
      "cell_type": "markdown",
      "source": [
        " # Chunking (Extraction of Meaningful Phrases)\n",
        " The process of extracting the meaningful phrases / chunks from the syntactic keywords used for:\n",
        "*   Information Extraction\n",
        "*   Named Entity Recognition (NER)\n",
        "*   Text Mining\n"
      ],
      "metadata": {
        "id": "agSXk9hlCu3j"
      }
    },
    {
      "cell_type": "code",
      "source": [
        "# Importing the liabraries\n",
        "import nltk\n",
        "from nltk.tokenize import word_tokenize\n",
        "\n",
        "#Input paragraph\n",
        "para=\"\"\" Java is the name of a programming language created by Sun Microsystems. This company was bought out by Oracle Corporation, which continues to keep it up to date.\"\"\"\n",
        "\n",
        "#tokenizing the words\n",
        "tokenized_text = nltk.word_tokenize(para)\n",
        "\n",
        "#Parts of speech tagging\n",
        "tagged_token = nltk.pos_tag(tokenized_text)\n",
        "\n",
        "print(tokenized_text)\n",
        "print (tagged_token)\n",
        "\n",
        "#defining Grammer for the chunks\n",
        "grammar = \"NP: {<DT>?<JJ>*<NN>}\"\n",
        "phrases = nltk.RegexpParser(grammar)\n",
        "result = phrases.parse(tagged_token)\n",
        "print(result)\n"
      ],
      "metadata": {
        "colab": {
          "base_uri": "https://localhost:8080/"
        },
        "id": "OL7snSEXCt0g",
        "outputId": "8a3c269b-02ef-4fa2-d59c-09d90692867f"
      },
      "execution_count": 96,
      "outputs": [
        {
          "output_type": "stream",
          "name": "stdout",
          "text": [
            "['Java', 'is', 'the', 'name', 'of', 'a', 'programming', 'language', 'created', 'by', 'Sun', 'Microsystems', '.', 'This', 'company', 'was', 'bought', 'out', 'by', 'Oracle', 'Corporation', ',', 'which', 'continues', 'to', 'keep', 'it', 'up', 'to', 'date', '.']\n",
            "[('Java', 'NNP'), ('is', 'VBZ'), ('the', 'DT'), ('name', 'NN'), ('of', 'IN'), ('a', 'DT'), ('programming', 'NN'), ('language', 'NN'), ('created', 'VBN'), ('by', 'IN'), ('Sun', 'NNP'), ('Microsystems', 'NNPS'), ('.', '.'), ('This', 'DT'), ('company', 'NN'), ('was', 'VBD'), ('bought', 'VBN'), ('out', 'RP'), ('by', 'IN'), ('Oracle', 'NNP'), ('Corporation', 'NNP'), (',', ','), ('which', 'WDT'), ('continues', 'VBZ'), ('to', 'TO'), ('keep', 'VB'), ('it', 'PRP'), ('up', 'RP'), ('to', 'TO'), ('date', 'NN'), ('.', '.')]\n",
            "(S\n",
            "  Java/NNP\n",
            "  is/VBZ\n",
            "  (NP the/DT name/NN)\n",
            "  of/IN\n",
            "  (NP a/DT programming/NN)\n",
            "  (NP language/NN)\n",
            "  created/VBN\n",
            "  by/IN\n",
            "  Sun/NNP\n",
            "  Microsystems/NNPS\n",
            "  ./.\n",
            "  (NP This/DT company/NN)\n",
            "  was/VBD\n",
            "  bought/VBN\n",
            "  out/RP\n",
            "  by/IN\n",
            "  Oracle/NNP\n",
            "  Corporation/NNP\n",
            "  ,/,\n",
            "  which/WDT\n",
            "  continues/VBZ\n",
            "  to/TO\n",
            "  keep/VB\n",
            "  it/PRP\n",
            "  up/RP\n",
            "  to/TO\n",
            "  (NP date/NN)\n",
            "  ./.)\n"
          ]
        }
      ]
    },
    {
      "cell_type": "code",
      "source": [],
      "metadata": {
        "id": "gRWOMPE7HQPz"
      },
      "execution_count": null,
      "outputs": []
    }
  ]
}